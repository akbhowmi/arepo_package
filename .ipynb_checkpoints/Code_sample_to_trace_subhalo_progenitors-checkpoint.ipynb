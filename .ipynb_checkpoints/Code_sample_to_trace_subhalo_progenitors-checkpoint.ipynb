{
 "cells": [
  {
   "cell_type": "markdown",
   "metadata": {},
   "source": [
    "# This is a script which processes the sublink outputs and provides the most massive progenitor branch of any desired subhalo "
   ]
  },
  {
   "cell_type": "code",
   "execution_count": 1,
   "metadata": {},
   "outputs": [],
   "source": [
    "import sys\n",
    "sys.path.append('/home/aklantbhowmick/anaconda3/lib/python3.7/site-packages')\n",
    "sys.path.append('/home/aklantbhowmick/anaconda3/lib/python3.7/site-packages/scalpy/')\n",
    "sys.path.append('/home/aklantbhowmick/anaconda3/envs/nbodykit-env/lib/python3.6/site-packages/')\n",
    "import mdot_to_Lbol\n",
    "import arepo_package\n",
    "import scipy.interpolate\n",
    "import illustris_python\n",
    "#%pylab inline\n",
    "import h5py\n",
    "import illustris_python.sublink\n",
    "import numpy\n",
    "\n",
    "#----------------------Set the simulation path----------------------------------------------------\n",
    "path_to_simulation='/blue/lblecha/aklantbhowmick/GAS_BASED_SEED_MODEL_ZOOM_RUNS4/'\n",
    "run='density_and_metallicity_based_criterion_zoom_levelmin7_levelmax11_haloindex4_redshift5.00_logbhseedmass4.10_NSC'\n",
    "basePath=path_to_simulation+run+'/AREPO/output_upto_4/' \n",
    "#----------------------------------------------------------------------------------------------------"
   ]
  },
  {
   "cell_type": "code",
   "execution_count": 3,
   "metadata": {},
   "outputs": [
    {
     "name": "stdout",
     "output_type": "stream",
     "text": [
      "Desired redshift:  19\n",
      "Output redshift:  18.977615635027277\n",
      "Output snapshot:  6\n",
      "The root subhalo is at the following redshift and snapshot: 18.977615635027277 6\n",
      "Warning: The number of selected subhaloes must be 1\n"
     ]
    },
    {
     "ename": "IndexError",
     "evalue": "index 0 is out of bounds for axis 0 with size 0",
     "output_type": "error",
     "traceback": [
      "\u001b[0;31m---------------------------------------------------------------------------\u001b[0m",
      "\u001b[0;31mIndexError\u001b[0m                                Traceback (most recent call last)",
      "\u001b[0;32m<ipython-input-3-2c87bd783dfb>\u001b[0m in \u001b[0;36m<module>\u001b[0;34m\u001b[0m\n\u001b[1;32m      4\u001b[0m \u001b[0mroot_redshift\u001b[0m\u001b[0;34m=\u001b[0m\u001b[0;36m19\u001b[0m\u001b[0;34m\u001b[0m\u001b[0;34m\u001b[0m\u001b[0m\n\u001b[1;32m      5\u001b[0m \u001b[0;31m#------------------------Get the indices and snapshots of the most massive progenitors---------------------------\u001b[0m\u001b[0;34m\u001b[0m\u001b[0;34m\u001b[0m\u001b[0;34m\u001b[0m\u001b[0m\n\u001b[0;32m----> 6\u001b[0;31m \u001b[0mProgenitor_SubhaloIndices\u001b[0m\u001b[0;34m,\u001b[0m\u001b[0mProgenitor_Snaps\u001b[0m\u001b[0;34m=\u001b[0m\u001b[0marepo_package\u001b[0m\u001b[0;34m.\u001b[0m\u001b[0mget_sublink_progenitors_most_massive_branch\u001b[0m\u001b[0;34m(\u001b[0m\u001b[0mbasePath\u001b[0m\u001b[0;34m,\u001b[0m\u001b[0mroot_subhalo_index\u001b[0m\u001b[0;34m,\u001b[0m\u001b[0mroot_redshift\u001b[0m\u001b[0;34m)\u001b[0m\u001b[0;34m\u001b[0m\u001b[0;34m\u001b[0m\u001b[0m\n\u001b[0m\u001b[1;32m      7\u001b[0m \u001b[0;31m#-----------------------------------------------------------------------------------------------------------------\u001b[0m\u001b[0;34m\u001b[0m\u001b[0;34m\u001b[0m\u001b[0;34m\u001b[0m\u001b[0m\n\u001b[1;32m      8\u001b[0m \u001b[0;34m\u001b[0m\u001b[0m\n",
      "\u001b[0;32m~/Aklant/test_arepo_outputs/arepo_package/arepo_package.py\u001b[0m in \u001b[0;36mget_sublink_progenitors_most_massive_branch\u001b[0;34m(basePath, root_subhalo_index, root_redshift)\u001b[0m\n\u001b[1;32m   1805\u001b[0m \u001b[0;34m\u001b[0m\u001b[0m\n\u001b[1;32m   1806\u001b[0m \u001b[0;32mdef\u001b[0m \u001b[0mget_sublink_progenitors_most_massive_branch\u001b[0m\u001b[0;34m(\u001b[0m\u001b[0mbasePath\u001b[0m\u001b[0;34m,\u001b[0m\u001b[0mroot_subhalo_index\u001b[0m\u001b[0;34m,\u001b[0m\u001b[0mroot_redshift\u001b[0m\u001b[0;34m)\u001b[0m\u001b[0;34m:\u001b[0m\u001b[0;34m\u001b[0m\u001b[0;34m\u001b[0m\u001b[0m\n\u001b[0;32m-> 1807\u001b[0;31m     \u001b[0mrootsubhalo\u001b[0m\u001b[0;34m=\u001b[0m\u001b[0mget_sublink_progenitors\u001b[0m\u001b[0;34m(\u001b[0m\u001b[0mbasePath\u001b[0m\u001b[0;34m,\u001b[0m\u001b[0mroot_subhalo_index\u001b[0m\u001b[0;34m,\u001b[0m\u001b[0mroot_redshift\u001b[0m\u001b[0;34m)\u001b[0m\u001b[0;34m\u001b[0m\u001b[0;34m\u001b[0m\u001b[0m\n\u001b[0m\u001b[1;32m   1808\u001b[0m     \u001b[0mcurrentsubhalo\u001b[0m\u001b[0;34m=\u001b[0m\u001b[0mrootsubhalo\u001b[0m\u001b[0;34m\u001b[0m\u001b[0;34m\u001b[0m\u001b[0m\n\u001b[1;32m   1809\u001b[0m     \u001b[0mProgenitor_SubhaloIndices\u001b[0m\u001b[0;34m=\u001b[0m\u001b[0;34m[\u001b[0m\u001b[0;34m]\u001b[0m\u001b[0;34m\u001b[0m\u001b[0;34m\u001b[0m\u001b[0m\n",
      "\u001b[0;32m~/Aklant/test_arepo_outputs/arepo_package/arepo_package.py\u001b[0m in \u001b[0;36mget_sublink_progenitors\u001b[0;34m(basePath, subhalo_index, desired_redshift)\u001b[0m\n\u001b[1;32m   1752\u001b[0m \u001b[0;34m\u001b[0m\u001b[0m\n\u001b[1;32m   1753\u001b[0m     \u001b[0mfind_subhalo_on_tree\u001b[0m\u001b[0;34m=\u001b[0m\u001b[0;34m(\u001b[0m\u001b[0mSubfindID_Tree\u001b[0m\u001b[0;34m==\u001b[0m\u001b[0msubhalo_index\u001b[0m\u001b[0;34m)\u001b[0m\u001b[0;34m&\u001b[0m\u001b[0;34m(\u001b[0m\u001b[0mSnapNum_Tree\u001b[0m\u001b[0;34m==\u001b[0m\u001b[0moutput_snapshot\u001b[0m\u001b[0;34m)\u001b[0m\u001b[0;34m\u001b[0m\u001b[0;34m\u001b[0m\u001b[0m\n\u001b[0;32m-> 1754\u001b[0;31m     \u001b[0mRootSubhaloID\u001b[0m\u001b[0;34m=\u001b[0m\u001b[0mSubhaloID_Tree\u001b[0m\u001b[0;34m[\u001b[0m\u001b[0mfind_subhalo_on_tree\u001b[0m\u001b[0;34m]\u001b[0m\u001b[0;34m[\u001b[0m\u001b[0;36m0\u001b[0m\u001b[0;34m]\u001b[0m\u001b[0;34m\u001b[0m\u001b[0;34m\u001b[0m\u001b[0m\n\u001b[0m\u001b[1;32m   1755\u001b[0m \u001b[0;34m\u001b[0m\u001b[0m\n\u001b[1;32m   1756\u001b[0m     \u001b[0msys\u001b[0m\u001b[0;34m.\u001b[0m\u001b[0msetrecursionlimit\u001b[0m\u001b[0;34m(\u001b[0m\u001b[0;36m1000\u001b[0m\u001b[0;34m)\u001b[0m\u001b[0;34m\u001b[0m\u001b[0;34m\u001b[0m\u001b[0m\n",
      "\u001b[0;31mIndexError\u001b[0m: index 0 is out of bounds for axis 0 with size 0"
     ]
    }
   ],
   "source": [
    "#-----Select the subhalo index and redshift of your root subhalo. The code will automatically select the nearest snapshot ----------------------------------------------------\n",
    "#-----Warning: Sublink merger trees have been computed only up to z=5. DO NOT select a root redshift less than 5, for now------------------------------------- \n",
    "root_subhalo_index=53   \n",
    "root_redshift=19\n",
    "#------------------------Get the indices and snapshots of the most massive progenitors---------------------------\n",
    "Progenitor_SubhaloIndices,Progenitor_Snaps=arepo_package.get_sublink_progenitors_most_massive_branch(basePath,root_subhalo_index,root_redshift)\n",
    "#-----------------------------------------------------------------------------------------------------------------\n",
    "\n",
    "#------------------------Select the oldest progenitor and trace its descendants. -----------------------------------\n",
    "#------------------------Check if the descendant track matches the most massive progenitor track--------------------\n",
    "oldest_progenitor_subhalo_index=Progenitor_SubhaloIndices[-1]\n",
    "oldest_progenitor_snap=Progenitor_Snaps[-1]\n",
    "snap_list,redshift_list=arepo_package.get_snapshot_redshift_correspondence(basePath)\n",
    "oldest_progenitor_redshift=redshift_list[snap_list==oldest_progenitor_snap][0]\n",
    "Descendant_SubhaloIndices,Descendant_Snaps=arepo_package.get_sublink_descendants(basePath,oldest_progenitor_subhalo_index,oldest_progenitor_redshift)\n",
    "Descendant_SubhaloIndices_upto_progenitor=Descendant_SubhaloIndices[0:len(Progenitor_SubhaloIndices)]\n",
    "\n",
    "print(\"Progenitor indices are:\",Progenitor_SubhaloIndices)\n",
    "print(\"All Descendant indices:\",Descendant_SubhaloIndices)\n",
    "print(\"All Descendant indices upto the progenitor snapshot in reverse:\",Descendant_SubhaloIndices_upto_progenitor[::-1])\n",
    "print (\"Difference (If they are all 0, it is good. If not, there's a problem, report to Aklant):\",Progenitor_SubhaloIndices-Descendant_SubhaloIndices_upto_progenitor[::-1])\n",
    "#------------------------------------------------------------------------------------------------------------------------\n",
    "\n",
    "\n"
   ]
  },
  {
   "cell_type": "code",
   "execution_count": null,
   "metadata": {},
   "outputs": [],
   "source": []
  },
  {
   "cell_type": "code",
   "execution_count": null,
   "metadata": {},
   "outputs": [],
   "source": []
  }
 ],
 "metadata": {
  "kernelspec": {
   "display_name": "Python 3.7 (basic)",
   "language": "python",
   "name": "python3"
  },
  "language_info": {
   "codemirror_mode": {
    "name": "ipython",
    "version": 3
   },
   "file_extension": ".py",
   "mimetype": "text/x-python",
   "name": "python",
   "nbconvert_exporter": "python",
   "pygments_lexer": "ipython3",
   "version": "3.7.3"
  }
 },
 "nbformat": 4,
 "nbformat_minor": 2
}
