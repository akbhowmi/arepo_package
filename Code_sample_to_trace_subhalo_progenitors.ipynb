{
 "cells": [
  {
   "cell_type": "markdown",
   "metadata": {},
   "source": [
    "# This is a script which processes the sublink outputs and provides the most massive progenitor branch of any desired subhalo "
   ]
  },
  {
   "cell_type": "code",
   "execution_count": 1,
   "metadata": {},
   "outputs": [],
   "source": [
    "import sys\n",
    "sys.path.append('/home/aklantbhowmick/anaconda3/lib/python3.7/site-packages')\n",
    "sys.path.append('/home/aklantbhowmick/anaconda3/lib/python3.7/site-packages/scalpy/')\n",
    "sys.path.append('/home/aklantbhowmick/anaconda3/envs/nbodykit-env/lib/python3.6/site-packages/')\n",
    "import mdot_to_Lbol\n",
    "import arepo_package\n",
    "import scipy.interpolate\n",
    "import illustris_python\n",
    "#%pylab inline\n",
    "import h5py\n",
    "import illustris_python.sublink\n",
    "import numpy\n",
    "\n",
    "#----------------------Set the simulation path----------------------------------------------------\n",
    "path_to_simulation='/blue/lblecha/aklantbhowmick/GAS_BASED_SEED_MODEL_ZOOM_RUNS4/'\n",
    "run='density_and_metallicity_based_criterion_zoom_levelmin7_levelmax9_haloindex4_redshift5.00_logbhseedmass5.90_NSC'\n",
    "basePath=path_to_simulation+run+'/AREPO/output_upto_4/' \n",
    "#----------------------------------------------------------------------------------------------------"
   ]
  },
  {
   "cell_type": "code",
   "execution_count": 3,
   "metadata": {},
   "outputs": [
    {
     "name": "stdout",
     "output_type": "stream",
     "text": [
      "Desired redshift:  10\n",
      "Output redshift:  9.996590466186332\n",
      "Output snapshot:  15\n",
      "The root subhalo is at the following redshift and snapshot: 9.996590466186332 15\n",
      "Desired redshift:  16.005041538113627\n",
      "Output redshift:  16.005041538113627\n",
      "Output snapshot:  9\n",
      "Progenitor indices are: [ 4  1  3  4  6  5 12]\n",
      "All Descendant indices: [12, 5, 6, 4, 3, 1, 4, 0, 11, 6, 2, 4]\n",
      "All Descendant indices upto the progenitor snapshot in reverse: [4, 1, 3, 4, 6, 5, 12]\n",
      "Difference (If they are all 0, it is good. If not, there's a problem, report to Aklant): [0 0 0 0 0 0 0]\n"
     ]
    }
   ],
   "source": [
    "#-----Select the subhalo index and redshift of your root subhalo. The code will automatically select the nearest snapshot ----------------------------------------------------\n",
    "#-----Warning: Sublink merger trees have been computed only up to z=5. DO NOT select a root redshift less than 5, for now------------------------------------- \n",
    "root_subhalo_index=4   \n",
    "root_redshift=10\n",
    "#------------------------Get the indices and snapshots of the most massive progenitors---------------------------\n",
    "Progenitor_SubhaloIndices,Progenitor_Snaps=arepo_package.get_sublink_progenitors_most_massive_branch(basePath,root_subhalo_index,root_redshift)\n",
    "#-----------------------------------------------------------------------------------------------------------------\n",
    "\n",
    "#------------------------Select the oldest progenitor and trace its descendants. -----------------------------------\n",
    "#------------------------Check if the descendant track matches the most massive progenitor track--------------------\n",
    "oldest_progenitor_subhalo_index=Progenitor_SubhaloIndices[-1]\n",
    "oldest_progenitor_snap=Progenitor_Snaps[-1]\n",
    "snap_list,redshift_list=arepo_package.get_snapshot_redshift_correspondence(basePath)\n",
    "oldest_progenitor_redshift=redshift_list[snap_list==oldest_progenitor_snap][0]\n",
    "Descendant_SubhaloIndices,Descendant_Snaps=arepo_package.get_sublink_descendants(basePath,oldest_progenitor_subhalo_index,oldest_progenitor_redshift)\n",
    "Descendant_SubhaloIndices_upto_progenitor=Descendant_SubhaloIndices[0:len(Progenitor_SubhaloIndices)]\n",
    "\n",
    "print(\"Progenitor indices are:\",Progenitor_SubhaloIndices)\n",
    "print(\"All Descendant indices:\",Descendant_SubhaloIndices)\n",
    "print(\"All Descendant indices upto the progenitor snapshot in reverse:\",Descendant_SubhaloIndices_upto_progenitor[::-1])\n",
    "print (\"Difference (If they are all 0, it is good. If not, there's a problem, report to Aklant):\",Progenitor_SubhaloIndices-Descendant_SubhaloIndices_upto_progenitor[::-1])\n",
    "#------------------------------------------------------------------------------------------------------------------------\n",
    "\n",
    "\n"
   ]
  },
  {
   "cell_type": "code",
   "execution_count": null,
   "metadata": {},
   "outputs": [],
   "source": []
  },
  {
   "cell_type": "code",
   "execution_count": null,
   "metadata": {},
   "outputs": [],
   "source": []
  }
 ],
 "metadata": {
  "kernelspec": {
   "display_name": "Python 3.7 (basic)",
   "language": "python",
   "name": "python3"
  },
  "language_info": {
   "codemirror_mode": {
    "name": "ipython",
    "version": 3
   },
   "file_extension": ".py",
   "mimetype": "text/x-python",
   "name": "python",
   "nbconvert_exporter": "python",
   "pygments_lexer": "ipython3",
   "version": "3.7.3"
  }
 },
 "nbformat": 4,
 "nbformat_minor": 2
}
